{
 "cells": [
  {
   "cell_type": "markdown",
   "metadata": {},
   "source": [
    "# I. Introduction"
   ]
  },
  {
   "cell_type": "markdown",
   "metadata": {},
   "source": [
    "The City of New York is one of the most busy places in the United States, due to his activity, financial ( Called the financial capital of USA) , high tourist traffic due multiculturism of his visitors ( Latin America, Europa, Asia and others ) and also people that works here that came from that places since NY is also home for many companies that find a business friendly enviroment. It means NY is a place with a potencial return of investment due his economic activity buy also means the market is highly competitive.\n",
    "But we have to take care about it, it seems like every investment will be an hit, but it is not necesarily due the market is highly competitive, for this reason is required for a new investment to analyse some facts to reduce the risk of invest here, and also have a positive return of his investments.\n",
    "For all of these reasons is necessary  understand the market that we can enter to invest"
   ]
  },
  {
   "cell_type": "markdown",
   "metadata": {},
   "source": [
    "# II. Business Problem"
   ]
  },
  {
   "cell_type": "markdown",
   "metadata": {},
   "source": [
    "Into the New York many financial activities take place, the most common\n",
    "are the services, like food, but there is no many places to eat a fresh sushi, and generally speaking, no many places have fresh fish.\n",
    "In this way, We need to select a suitable location to open a restaurant, we need to find a place with high people taffic and with people interested in this kind of site near to the place where I will open the restaraunt."
   ]
  },
  {
   "cell_type": "code",
   "execution_count": null,
   "metadata": {},
   "outputs": [],
   "source": []
  }
 ],
 "metadata": {
  "kernelspec": {
   "display_name": "Python 3",
   "language": "python",
   "name": "python3"
  },
  "language_info": {
   "codemirror_mode": {
    "name": "ipython",
    "version": 3
   },
   "file_extension": ".py",
   "mimetype": "text/x-python",
   "name": "python",
   "nbconvert_exporter": "python",
   "pygments_lexer": "ipython3",
   "version": "3.7.1"
  }
 },
 "nbformat": 4,
 "nbformat_minor": 2
}
